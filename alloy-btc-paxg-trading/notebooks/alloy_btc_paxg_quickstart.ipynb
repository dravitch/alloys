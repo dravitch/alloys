{
 "nbformat": 4,
 "nbformat_minor": 5,
 "metadata": {
  "kernelspec": {
   "display_name": "Python 3",
   "language": "python",
   "name": "python3"
  },
  "language_info": {
   "codemirror_mode": {
    "name": "ipython",
    "version": 3
   },
   "file_extension": ".py",
   "mimetype": "text/x-python",
   "name": "python",
   "nbconvert_exporter": "python",
   "pygments_lexer": "ipython3",
   "version": "3.8.0"
  }
 },
 "cells": [
  {
   "cell_type": "markdown",
   "metadata": {},
   "source": [
    "# Alloy BTC-PAXG Trading Strategy Quick Start\n",
    "\n",
    "This notebook provides a quick-start guide for the Alloy BTC-PAXG trading strategy, dynamically allocating between Bitcoin (BTC) and PAX Gold (PAXG) based on momentum and volatility. It’s designed for users who can’t run the Streamlit app locally and supports backtesting, trading signals, and parameter optimization.\n",
    "\n",
    "## Features\n",
    "- **Data Loading**: Fetch BTC and PAXG prices via `yfinance`.\n",
    "- **Backtesting**: Compare Alloy strategy to Buy & Hold and DCA.\n",
    "- **Visualization**: Interactive Plotly charts for performance, allocations, and drawdowns.\n",
    "- **Signals**: Generate trading recommendations with price and momentum charts.\n",
    "- **Optimization**: Find optimal parameters using Optuna.\n",
    "\n",
    "## Setup\n",
    "Install dependencies in Colab:\n",
    "```python\n",
    "!pip install yfinance pandas numpy plotly>=5.10.0 ipywidgets optuna\n",
    "```\n",
    "For local Jupyter, also run:\n",
    "```bash\n",
    "pip install yfinance pandas numpy plotly>=5.10.0 ipywidgets optuna\n",
    "jupyter nbextension enable --py widgetsnbextension\n",
    "```\n",
    "\n",
    "## Disclaimer\n",
    "**For educational purposes only. Cryptocurrency trading is highly volatile and risky. Do your own research and consult a financial advisor.**"
   ]
  },
  {
   "cell_type": "markdown",
   "metadata": {},
   "source": [
    "## Data Loading\n",
    "\n",
    "Load historical BTC and PAXG price data with interactive date pickers."
   ]
  },
  {
   "cell_type": "code",
   "execution_count": null,
   "metadata": {},
   "outputs": [],
   "source": [
    "import yfinance as yf\n",
    "import pandas as pd\n",
    "import numpy as np\n",
    "import plotly.graph_objects as go\n",
    "import plotly.io as pio\n",
    "import logging\n",
    "from datetime import datetime, timedelta\n",
    "from ipywidgets import DatePicker, Button, Output, VBox\n",
    "from IPython.display import display, HTML\n",
    "\n",
    "# Configure Plotly for Colab\n",
    "pio.renderers.default = 'colab'\n",
    "\n",
    "# Configure logging\n",
    "logging.basicConfig(level=logging.INFO)\n",
    "logger = logging.getLogger(__name__)\n",
    "\n",
    "def download_data(start_date: str, end_date: str, max_retries: int = 3) -> pd.DataFrame:\n",
    "    '''Fetch BTC and PAXG price data.'''\n",
    "    for attempt in range(max_retries):\n",
    "        try:\n",
    "            logger.info(f'Attempt {attempt + 1}/{max_retries} to download data')\n",
    "            btc = yf.download('BTC-USD', start=start_date, end=end_date, progress=False)\n",
    "            paxg = yf.download('PAXG-USD', start=start_date, end=end_date, progress=False)\n",
    "            common_dates = btc.index.intersection(paxg.index)\n",
    "            data = pd.DataFrame(index=common_dates)\n",
    "            data['BTC'] = btc.loc[common_dates, 'Close']\n",
    "            data['PAXG'] = paxg.loc[common_dates, 'Close']\n",
    "            data = data.dropna()\n",
    "            if data.empty:\n",
    "                raise ValueError('No valid data retrieved')\n",
    "            logger.info(f'Data loaded: {len(data)} days')\n",
    "            return data\n",
    "        except Exception as e:\n",
    "            logger.error(f'Error: {str(e)}')\n",
    "            if attempt < max_retries - 1:\n",
    "                import time\n",
    "                time.sleep(5 * (attempt + 1))\n",
    "            else:\n",
    "                logger.error('Failed to download data')\n",
    "                return None\n",
    "\n",
    "start_date_picker = DatePicker(description='Start Date', value=datetime(2020, 1, 1))\n",
    "end_date_picker = DatePicker(description='End Date', value=datetime.now())\n",
    "load_data_button = Button(description='Load Data')\n",
    "data_output = Output()\n",
    "historical_data = None\n",
    "\n",
    "def on_load_data_clicked(b):\n",
    "    global historical_data\n",
    "    with data_output:\n",
    "        data_output.clear_output()\n",
    "        if start_date_picker.value and end_date_picker.value:\n",
    "            start_date = start_date_picker.value.strftime('%Y-%m-%d')\n",
    "            end_date = end_date_picker.value.strftime('%Y-%m-%d')\n",
    "            historical_data = download_data(start_date, end_date)\n",
    "            if historical_data is not None:\n",
    "                display(HTML(f'<b>Data loaded:</b> {len(historical_data)} days'))\n",
    "                display(historical_data.tail())\n",
    "            else:\n",
    "                display(HTML('<b style=\"color:red\">Error: Failed to load data.</b>'))\n",
    "        else:\n",
    "            display(HTML('<b style=\"color:red\">Error: Select valid dates.</b>'))\n",
    "\n",
    "load_data_button.on_click(on_load_data_clicked)\n",
    "display(VBox([start_date_picker, end_date_picker, load_data_button, data_output]))"
   ]
  },
  {
   "cell_type": "markdown",
   "metadata": {},
   "source": [
    "## Strategy and Backtesting\n",
    "\n",
    "Implement the Alloy strategy, adjusting BTC/PAXG allocations based on momentum and volatility. Backtest against Buy & Hold and DCA."
   ]
  },
  {
   "cell_type": "code",
   "execution_count": null,
   "metadata": {},
   "outputs": [],
   "source": [
    "from typing import Dict\n",
    "import optuna\n",
    "from ipywidgets import IntSlider, FloatSlider, Button, Output\n",
    "\n",
    "class AlloyPortfolioBOME:\n",
    "    def __init__(self, initial_capital: float, momentum_window: int, volatility_window: int,\n",
    "                 momentum_threshold_bull: float, momentum_threshold_bear: float,\n",
    "                 max_btc_allocation: float, min_btc_allocation: float,\n",
    "                 rebalance_frequency: int, transaction_cost: float, data: pd.DataFrame):\n",
    "        self.initial_capital = initial_capital\n",
    "        self.transaction_cost = transaction_cost\n",
    "        self.params = {\n",
    "            'momentum_window': momentum_window,\n",
    "            'volatility_window': volatility_window,\n",
    "            'momentum_threshold_bull': momentum_threshold_bull,\n",
    "            'momentum_threshold_bear': momentum_threshold_bear,\n",
    "            'max_btc_allocation': max_btc_allocation,\n",
    "            'min_btc_allocation': min_btc_allocation,\n",
    "            'rebalance_frequency': rebalance_frequency\n",
    "        }\n",
    "        self.btc_allocation = 0.5\n",
    "        self.paxg_allocation = 0.5\n",
    "        self.last_rebalance = None\n",
    "        self.positions = {'BTC': 0, 'PAXG': 0}\n",
    "        self.data = data\n",
    "\n",
    "    def calculate_volatility(self, prices: pd.Series) -> pd.Series:\n",
    "        returns = np.log(prices / prices.shift(1))\n",
    "        volatility = returns.rolling(window=self.params['volatility_window']).std() * np.sqrt(252) * 100\n",
    "        return volatility.bfill()\n",
    "\n",
    "    def calculate_momentum(self, prices: pd.Series) -> pd.Series:\n",
    "        return (prices / prices.shift(self.params['momentum_window']) - 1) * 100\n",
    "\n",
    "    def get_market_context(self, btc_momentum: float, btc_volatility: float) -> str:\n",
    "        momentum_state = 'bullish' if btc_momentum > self.params['momentum_threshold_bull'] else \\\n",
    "                         'bearish' if btc_momentum < self.params['momentum_threshold_bear'] else 'neutral'\n",
    "        vol_state = 'low_vol' if btc_volatility < 30 else 'high_vol'\n",
    "        return f'{momentum_state}_{vol_state}'\n",
    "\n",
    "    def dynamic_rebalancing(self, historical_slice: pd.DataFrame, vol_btc: float, vol_paxg: float, current_price: pd.Series) -> bool:\n",
    "        btc_momentum = self.calculate_momentum(historical_slice['BTC']).iloc[-1]\n",
    "        context = self.get_market_context(btc_momentum, vol_btc)\n",
    "        old_btc_alloc = self.btc_allocation\n",
    "        if context.startswith('bullish'):\n",
    "            self.btc_allocation = self.params['max_btc_allocation']\n",
    "        elif context.startswith('bearish'):\n",
    "            self.btc_allocation = self.params['min_btc_allocation']\n",
    "        else:\n",
    "            total_vol = vol_btc + vol_paxg\n",
    "            self.btc_allocation = 0.5 if total_vol == 0 else max(self.params['min_btc_allocation'],\n",
    "                                                                 min(self.params['max_btc_allocation'],\n",
    "                                                                     1.2 - (vol_btc / total_vol)))\n",
    "        self.paxg_allocation = 1 - self.btc_allocation\n",
    "        should_rebalance = abs(self.btc_allocation - old_btc_alloc) > 0.05\n",
    "        if self.last_rebalance is not None and (historical_slice.index[-1] - self.last_rebalance).days < self.params['rebalance_frequency']:\n",
    "            self.btc_allocation = old_btc_alloc\n",
    "            self.paxg_allocation = 1 - self.btc_allocation\n",
    "            return False\n",
    "        return should_rebalance\n",
    "\n",
    "    def backtest(self, data: pd.DataFrame) -> pd.DataFrame:\n",
    "        logger.info('Starting backtest')\n",
    "        vol_btc = self.calculate_volatility(data['BTC'])\n",
    "        vol_paxg = self.calculate_volatility(data['PAXG'])\n",
    "        portfolio_value = pd.Series(self.initial_capital, index=data.index, dtype=float)\n",
    "        btc_alloc_series = pd.Series(0.5, index=data.index, dtype=float)\n",
    "        paxg_alloc_series = pd.Series(0.5, index=data.index, dtype=float)\n",
    "        transaction_fees = pd.Series(0.0, index=data.index, dtype=float)\n",
    "        dca_value = pd.Series(self.initial_capital, index=data.index, dtype=float)\n",
    "        bh_value = pd.Series(self.initial_capital, index=data.index, dtype=float)\n",
    "\n",
    "        self.positions['BTC'] = (self.initial_capital * 0.5) / data['BTC'].iloc[0]\n",
    "        self.positions['PAXG'] = (self.initial_capital * 0.5) / data['PAXG'].iloc[0]\n",
    "        self.last_rebalance = data.index[0]\n",
    "        daily_investment = self.initial_capital / len(data)\n",
    "        btc_dca_units = 0\n",
    "        paxg_dca_units = 0\n",
    "        btc_bh_units = (self.initial_capital * 0.5) / data['BTC'].iloc[0]\n",
    "        paxg_bh_units = (self.initial_capital * 0.5) / data['PAXG'].iloc[0]\n",
    "\n",
    "        for i, (date, row) in enumerate(data.iterrows()):\n",
    "            # DCA calculation\n",
    "            btc_dca_units += (daily_investment * 0.5) / row['BTC']\n",
    "            paxg_dca_units += (daily_investment * 0.5) / row['PAXG']\n",
    "            dca_value.iloc[i] = btc_dca_units * row['BTC'] + paxg_dca_units * row['PAXG']\n",
    "\n",
    "            # Buy & Hold calculation\n",
    "            bh_value.iloc[i] = btc_bh_units * row['BTC'] + paxg_bh_units * row['PAXG']\n",
    "\n",
    "            # Alloy Strategy rebalancing\n",
    "            if (date - self.last_rebalance).days >= self.params['rebalance_frequency']:\n",
    "                if self.dynamic_rebalancing(data.loc[:date], vol_btc.get(date, 0), vol_paxg.get(date, 0), row):\n",
    "                    current_value = self.positions['BTC'] * row['BTC'] + self.positions['PAXG'] * row['PAXG']\n",
    "                    btc_value_before = self.positions['BTC'] * row['BTC']\n",
    "                    paxg_value_before = self.positions['PAXG'] * row['PAXG']\n",
    "                    self.positions['BTC'] = (current_value * self.btc_allocation) / row['BTC']\n",
    "                    self.positions['PAXG'] = (current_value * self.paxg_allocation) / row['PAXG']\n",
    "                    btc_value_after = self.positions['BTC'] * row['BTC']\n",
    "                    paxg_value_after = self.positions['PAXG'] * row['PAXG']\n",
    "                    fees = (abs(btc_value_after - btc_value_before) + abs(paxg_value_after - paxg_value_before)) * self.transaction_cost\n",
    "                    transaction_fees.iloc[i] = fees\n",
    "                    self.last_rebalance = date\n",
    "\n",
    "            btc_alloc_series.iloc[i] = self.btc_allocation\n",
    "            paxg_alloc_series.iloc[i] = self.paxg_allocation\n",
    "            portfolio_value.iloc[i] = self.positions['BTC'] * row['BTC'] + self.positions['PAXG'] * row['PAXG'] - transaction_fees.iloc[i]\n",
    "\n",
    "        results = pd.DataFrame({\n",
    "            'portfolio_value': portfolio_value,\n",
    "            'buy_hold_value': bh_value,\n",
    "            'dca_value': dca_value,\n",
    "            'btc_allocation': btc_alloc_series,\n",
    "            'paxg_allocation': paxg_alloc_series,\n",
    "            'transaction_fees': transaction_fees\n",
    "        }, index=data.index)\n",
    "        logger.info('Backtest completed')\n",
    "        return results\n",
    "\n",
    "    def calculate_metrics(self, results: pd.DataFrame) -> Dict:\n",
    "        daily_returns = np.log(results['portfolio_value'] / results['portfolio_value'].shift(1)).dropna()\n",
    "        bh_daily_returns = np.log(results['buy_hold_value'] / results['buy_hold_value'].shift(1)).dropna()\n",
    "        dca_daily_returns = np.log(results['dca_value'] / results['dca_value'].shift(1)).dropna()\n",
    "        years = (results.index[-1] - results.index[0]).days / 365.25\n",
    "        metrics = {\n",
    "            'total_return_alloy': (results['portfolio_value'].iloc[-1] / results['portfolio_value'].iloc[0] - 1) * 100,\n",
    "            'total_return_buy_hold': (results['buy_hold_value'].iloc[-1] / results['buy_hold_value'].iloc[0] - 1) * 100,\n",
    "            'total_return_dca': (results['dca_value'].iloc[-1] / results['dca_value'].iloc[0] - 1) * 100,\n",
    "            'annualized_return_alloy': ((results['portfolio_value'].iloc[-1] / results['portfolio_value'].iloc[0]) ** (1/years) - 1) * 100,\n",
    "            'annualized_return_buy_hold': ((results['buy_hold_value'].iloc[-1] / results['buy_hold_value'].iloc[0]) ** (1/years) - 1) * 100,\n",
    "            'annualized_return_dca': ((results['dca_value'].iloc[-1] / results['dca_value'].iloc[0]) ** (1/years) - 1) * 100,\n",
    "            'sharpe_ratio_alloy': (daily_returns.mean() * 252) / (daily_returns.std() * np.sqrt(252)) if daily_returns.std() != 0 else 0,\n",
    "            'sharpe_ratio_buy_hold': (bh_daily_returns.mean() * 252) / (bh_daily_returns.std() * np.sqrt(252)) if bh_daily_returns.std() != 0 else 0,\n",
    "            'sharpe_ratio_dca': (dca_daily_returns.mean() * 252) / (dca_daily_returns.std() * np.sqrt(252)) if dca_daily_returns.std() != 0 else 0,\n",
    "            'max_drawdown_alloy': ((results['portfolio_value'].cummax() - results['portfolio_value']) / results['portfolio_value'].cummax()).max() * 100,\n",
    "            'max_drawdown_buy_hold': ((results['buy_hold_value'].cummax() - results['buy_hold_value']) / results['buy_hold_value'].cummax()).max() * 100,\n",
    "            'max_drawdown_dca': ((results['dca_value'].cummax() - results['dca_value']) / results['dca_value'].cummax()).max() * 100\n",
    "        }\n",
    "        return metrics\n",
    "\n",
    "    def optimize_parameters(self, data: pd.DataFrame, n_trials: int = 50) -> Dict:\n",
    "        def objective(trial):\n",
    "            params = {\n",
    "                'momentum_window': trial.suggest_int('momentum_window', 10, 60),\n",
    "                'volatility_window': trial.suggest_int('volatility_window', 20, 100),\n",
    "                'momentum_threshold_bull': trial.suggest_float('momentum_threshold_bull', 0, 20),\n",
    "                'momentum_threshold_bear': trial.suggest_float('momentum_threshold_bear', -20, 0),\n",
    "                'max_btc_allocation': trial.suggest_float('max_btc_allocation', 0.5, 1.0),\n",
    "                'min_btc_allocation': trial.suggest_float('min_btc_allocation', 0.0, 0.5),\n",
    "                'rebalance_frequency': trial.suggest_int('rebalance_frequency', 1, 30)\n",
    "            }\n",
    "            portfolio = AlloyPortfolioBOME(\n",
    "                initial_capital=self.initial_capital, transaction_cost=self.transaction_cost,\n",
    "                data=data, **params\n",
    "            )\n",
    "            results = portfolio.backtest(data)\n",
    "            metrics = portfolio.calculate_metrics(results)\n",
    "            return metrics['sharpe_ratio_alloy']\n",
    "\n",
    "        study = optuna.create_study(direction='maximize')\n",
    "        study.optimize(objective, n_trials=n_trials)\n",
    "        return study.best_params\n",
    "\n",
    "initial_capital_slider = IntSlider(min=1000, max=1000000, value=10000, step=1000, description='Initial Capital')\n",
    "momentum_window_slider = IntSlider(min=10, max=60, value=30, step=5, description='Momentum Window')\n",
    "volatility_window_slider = IntSlider(min=20, max=100, value=60, step=10, description='Volatility Window')\n",
    "momentum_bull_slider = IntSlider(min=0, max=20, value=10, step=1, description='Bull Threshold')\n",
    "momentum_bear_slider = IntSlider(min=-20, max=0, value=-5, step=1, description='Bear Threshold')\n",
    "max_btc_slider = FloatSlider(min=0.5, max=1.0, value=0.9, step=0.05, description='Max BTC Alloc')\n",
    "min_btc_slider = FloatSlider(min=0.0, max=0.5, value=0.2, step=0.05, description='Min BTC Alloc')\n",
    "rebalance_freq_slider = IntSlider(min=1, max=30, value=3, step=1, description='Rebalance Freq')\n",
    "transaction_cost_slider = FloatSlider(min=0.0, max=0.01, value=0.001, step=0.0005, description='Trans Cost')\n",
    "run_backtest_button = Button(description='Run Backtest')\n",
    "backtest_output = Output()\n",
    "\n",
    "def on_run_backtest_clicked(b):\n",
    "    with backtest_output:\n",
    "        backtest_output.clear_output()\n",
    "        if historical_data is None:\n",
    "            display(HTML('<b style=\"color:red\">Error: Load data first.</b>'))\n",
    "            return\n",
    "        portfolio = AlloyPortfolioBOME(\n",
    "            initial_capital=initial_capital_slider.value,\n",
    "            momentum_window=momentum_window_slider.value,\n",
    "            volatility_window=volatility_window_slider.value,\n",
    "            momentum_threshold_bull=momentum_bull_slider.value,\n",
    "            momentum_threshold_bear=momentum_bear_slider.value,\n",
    "            max_btc_allocation=max_btc_slider.value,\n",
    "            min_btc_allocation=min_btc_slider.value,\n",
    "            rebalance_frequency=rebalance_freq_slider.value,\n",
    "            transaction_cost=transaction_cost_slider.value,\n",
    "            data=historical_data\n",
    "        )\n",
    "        global backtest_results\n",
    "        backtest_results = portfolio.backtest(historical_data)\n",
    "        metrics = portfolio.calculate_metrics(backtest_results)\n",
    "        display(HTML(f'<b>Total Return:</b> {metrics[\"total_return_alloy\"]:.2f}% | <b>Sharpe Ratio:</b> {metrics[\"sharpe_ratio_alloy\"]:.2f} | <b>Max Drawdown:</b> {metrics[\"max_drawdown_alloy\"]:.2f}%'))\n",
    "\n",
    "run_backtest_button.on_click(on_run_backtest_clicked)\n",
    "display(VBox([initial_capital_slider, momentum_window_slider, volatility_window_slider,\n",
    "              momentum_bull_slider, momentum_bear_slider, max_btc_slider, min_btc_slider,\n",
    "              rebalance_freq_slider, transaction_cost_slider, run_backtest_button, backtest_output]))"
   ]
  },
  {
   "cell_type": "markdown",
   "metadata": {},
   "source": [
    "## Results Visualization\n",
    "\n",
    "Visualize backtest results with interactive Plotly charts for performance, allocations, and drawdowns."
   ]
  },
  {
   "cell_type": "code",
   "execution_count": null,
   "metadata": {},
   "outputs": [],
   "source": [
    "def plot_results(results: pd.DataFrame, historical_data: pd.DataFrame):\n",
    "    # Debug data\n",
    "    print(\"backtest_results.head():\")\n",
    "    print(results[['portfolio_value', 'buy_hold_value', 'dca_value']].head())\n",
    "    print(\"backtest_results.tail():\")\n",
    "    print(results[['portfolio_value', 'buy_hold_value', 'dca_value']].tail())\n",
    "    print(\"historical_data.head():\")\n",
    "    print(historical_data[['BTC', 'PAXG']].head())\n",
    "    print(\"historical_data.tail():\")\n",
    "    print(historical_data[['BTC', 'PAXG']].tail())\n",
    "\n",
    "    # Portfolio Performance\n",
    "    fig1 = go.Figure()\n",
    "    normalized_alloy = results['portfolio_value'] / results['portfolio_value'].iloc[0] * 100\n",
    "    normalized_buy_hold = results['buy_hold_value'] / results['buy_hold_value'].iloc[0] * 100\n",
    "    normalized_dca = results['dca_value'] / results['dca_value'].iloc[0] * 100\n",
    "    normalized_btc = historical_data['BTC'] / historical_data['BTC'].iloc[0] * 100\n",
    "    normalized_paxg = historical_data['PAXG'] / historical_data['PAXG'].iloc[0] * 100\n",
    "    \n",
    "    # Check for constant values\n",
    "    print(f\"Alloy unique values: {normalized_alloy.nunique()}\")\n",
    "    print(f\"Buy & Hold unique values: {normalized_buy_hold.nunique()}\")\n",
    "    print(f\"DCA unique values: {normalized_dca.nunique()}\")\n",
    "    print(f\"BTC unique values: {normalized_btc.nunique()}\")\n",
    "    print(f\"PAXG unique values: {normalized_paxg.nunique()}\")\n",
    "\n",
    "    fig1.add_trace(go.Scatter(x=normalized_alloy.index, y=normalized_alloy, mode='lines', name='Alloy Strategy', line=dict(color='blue')))\n",
    "    fig1.add_trace(go.Scatter(x=normalized_buy_hold.index, y=normalized_buy_hold, mode='lines', name='Buy & Hold', line=dict(color='orange', dash='dash')))\n",
    "    fig1.add_trace(go.Scatter(x=normalized_dca.index, y=normalized_dca, mode='lines', name='DCA', line=dict(color='green', dash='dot')))\n",
    "    fig1.add_trace(go.Scatter(x=normalized_btc.index, y=normalized_btc, mode='lines', name='BTC', line=dict(color='red'), opacity=0.5))\n",
    "    fig1.add_trace(go.Scatter(x=normalized_paxg.index, y=normalized_paxg, mode='lines', name='PAXG', line=dict(color='purple'), opacity=0.5))\n",
    "    fig1.update_layout(title='Comparative Performance (Base 100)', xaxis_title='Date', yaxis_title='Performance (%)',\n",
    "                       legend=dict(orientation='h', yanchor='bottom', y=1.02, xanchor='right', x=1))\n",
    "    fig1.show()\n",
    "\n",
    "    # Allocation\n",
    "    fig2 = go.Figure()\n",
    "    fig2.add_trace(go.Scatter(x=results.index, y=results['btc_allocation'] * 100, mode='lines', name='BTC Allocation', line=dict(color='orange')))\n",
    "    fig2.add_trace(go.Scatter(x=results.index, y=results['paxg_allocation'] * 100, mode='lines', name='PAXG Allocation', line=dict(color='purple')))\n",
    "    fig2.update_layout(title='Dynamic Asset Allocation', xaxis_title='Date', yaxis_title='Allocation (%)',\n",
    "                       legend=dict(orientation='h', yanchor='bottom', y=1.02, xanchor='right', x=1), yaxis=dict(range=[0, 100]))\n",
    "    fig2.show()\n",
    "\n",
    "    # Drawdown\n",
    "    fig3 = go.Figure()\n",
    "    drawdown_alloy = (results['portfolio_value'] - results['portfolio_value'].cummax()) / results['portfolio_value'].cummax() * 100\n",
    "    drawdown_buy_hold = (results['buy_hold_value'] - results['buy_hold_value'].cummax()) / results['buy_hold_value'].cummax() * 100\n",
    "    drawdown_dca = (results['dca_value'] - results['dca_value'].cummax()) / results['dca_value'].cummax() * 100\n",
    "    fig3.add_trace(go.Scatter(x=drawdown_alloy.index, y=drawdown_alloy, mode='lines', name='Alloy Strategy', line=dict(color='blue')))\n",
    "    fig3.add_trace(go.Scatter(x=drawdown_buy_hold.index, y=drawdown_buy_hold, mode='lines', name='Buy & Hold', line=dict(color='orange', dash='dash')))\n",
    "    fig3.add_trace(go.Scatter(x=drawdown_dca.index, y=drawdown_dca, mode='lines', name='DCA', line=dict(color='green', dash='dot')))\n",
    "    fig3.update_layout(title='Drawdowns (%)', xaxis_title='Date', yaxis_title='Drawdown (%)',\n",
    "                       legend=dict(orientation='h', yanchor='bottom', y=1.02, xanchor='right', x=1))\n",
    "    fig3.show()\n",
    "\n",
    "# Run after backtest: plot_results(backtest_results, historical_data)\n",
    "if 'backtest_results' in globals() and historical_data is not None:\n",
    "    plot_results(backtest_results, historical_data)\n",
    "else:\n",
    "    display(HTML('<b>Run backtest first to generate plots.</b>'))"
   ]
  },
  {
   "cell_type": "markdown",
   "metadata": {},
   "source": [
    "## Trading Signals and Optimization\n",
    "\n",
    "Generate trading signals with price and momentum charts, and optimize parameters to maximize Sharpe ratio."
   ]
  },
  {
   "cell_type": "code",
   "execution_count": null,
   "metadata": {},
   "outputs": [],
   "source": [
    "signal_date_picker = DatePicker(description='Signal Date', value=datetime.now() - timedelta(days=1))\n",
    "lookback_days_slider = IntSlider(min=30, max=365, value=180, step=30, description='Lookback Days')\n",
    "momentum_window_signal_slider = IntSlider(min=10, max=60, value=30, step=5, description='Momentum Window')\n",
    "generate_signal_button = Button(description='Generate Signal')\n",
    "signal_output = Output()\n",
    "\n",
    "def generate_signal(historical_data, signal_date, lookback_days, momentum_window):\n",
    "    start_date = (signal_date - timedelta(days=lookback_days + momentum_window)).strftime('%Y-%m-%d')\n",
    "    end_date = signal_date.strftime('%Y-%m-%d')\n",
    "    data = download_data(start_date, end_date)\n",
    "    if data is None:\n",
    "        return None\n",
    "    portfolio = AlloyPortfolioBOME(\n",
    "        initial_capital=10000, momentum_window=momentum_window, volatility_window=60,\n",
    "        momentum_threshold_bull=10

, momentum_threshold_bear=-5,
        max_btc_allocation=0.9, min_btc_allocation=0.2,
        rebalance_frequency=3, transaction_cost=0.001, data=data
    )
    latest_data = data.iloc[-1:]
    vol_btc = portfolio.calculate_volatility(data['BTC']).iloc[-1]
    vol_paxg = portfolio.calculate_volatility(data['PAXG']).iloc[-1]
    btc_momentum = portfolio.calculate_momentum(data['BTC']).iloc[-1]
    context = portfolio.get_market_context(btc_momentum, vol_btc)
    should_rebalance = portfolio.dynamic_rebalancing(data, vol_btc, vol_paxg, latest_data.iloc[0])
    signal = {
        'decision_type': context.split('_')[0],
        'decision_reason': f'BTC momentum ({btc_momentum:.2f}%) indicates {context}',
        'market_context': {'btc_price': latest_data['BTC'].iloc[0], 'btc_momentum': btc_momentum},
        'trades': [
            {'asset': 'BTC', 'new_allocation': portfolio.btc_allocation * 100},
            {'asset': 'PAXG', 'new_allocation': portfolio.paxg_allocation * 100}
        ] if should_rebalance else []
    }
    return signal, data

def on_generate_signal_clicked(b):
    with signal_output:
        signal_output.clear_output()
        if not signal_date_picker.value:
            display(HTML('<b style="color:red">Error: Select a valid date.</b>'))
            return
        signal, data = generate_signal(historical_data, signal_date_picker.value, lookback_days_slider.value, momentum_window_signal_slider.value)
        if signal is None:
            display(HTML('<b style="color:red">Error: Failed to load data.</b>'))
            return
        color = 'green' if signal['decision_type'] == 'bullish' else 'red' if signal['decision_type'] == 'bearish' else 'orange'
        display(HTML(f'<h3>Signal for {signal_date_picker.value.strftime("%Y-%m-%d")}</h3>'
                     f'<div style="border:2px solid {color};padding:10px">'
                     f'<b style="color:{color}">{signal["decision_type"].upper()}</b><br>'
                     f'{signal["decision_reason"]}</div>'))
        display(HTML(f'<b>BTC Price:</b> ${signal["market_context"]["btc_price"]:,.2f} | <b>Momentum:</b> {signal["market_context"]["btc_momentum"]:.2f}%'))
        if signal['trades']:
            for trade in signal['trades']:
                display(HTML(f'<b>{trade["asset"]}:</b> Allocate {trade["new_allocation"]:.1f}%'))
        else:
            display(HTML('<b>No rebalance needed.</b>'))

        # Price Chart
        fig = go.Figure()
        fig.add_trace(go.Scatter(x=data.index[-90:], y=data['BTC'][-90:], mode='lines', name='BTC Price', line=dict(color='orange')))
        fig.add_trace(go.Scatter(x=data.index[-90:], y=data['PAXG'][-90:], mode='lines', name='PAXG Price', yaxis='y2', line=dict(color='purple'), opacity=0.5))
        fig.update_layout(title='BTC and PAXG Price (Last 90 Days)', xaxis_title='Date', yaxis_title='BTC Price ($)',
                          yaxis2=dict(title='PAXG Price ($)', overlaying='y', side='right'),
                          legend=dict(orientation='h', yanchor='bottom', y=1.02, xanchor='right', x=1))
        fig.show()

        # Momentum Chart
        momentum = (data['BTC'] / data['BTC'].shift(momentum_window_signal_slider.value) - 1) * 100
        fig2 = go.Figure()
        fig2.add_trace(go.Scatter(x=momentum.index[-90:], y=momentum[-90:], mode='lines', name='BTC Momentum', line=dict(color='blue')))
        fig2.add_shape(type='line', x0=momentum.index[-90], y0=10, x1=momentum.index[-1], y1=10, line=dict(color='green', dash='dash'))
        fig2.add_shape(type='line', x0=momentum.index[-90], y0=-5, x1=momentum.index[-1], y1=-5, line=dict(color='red', dash='dash'))
        fig2.update_layout(title='BTC Momentum (Last 90 Days)', xaxis_title='Date', yaxis_title='Momentum (%)')
        fig2.show()

generate_signal_button.on_click(on_generate_signal_clicked)
display(VBox([signal_date_picker, lookback_days_slider, momentum_window_signal_slider, generate_signal_button, signal_output]))

n_trials_slider = IntSlider(min=10, max=100, value=50, step=10, description='N Trials')
optimize_button = Button(description='Run Optimization')
optimize_output = Output()

def on_optimize_clicked(b):
    with optimize_output:
        optimize_output.clear_output()
        if historical_data is None:
            display(HTML('<b style="color:red">Error: Load data first.</b>'))
            return
        portfolio = AlloyPortfolioBOME(
            initial_capital=10000, momentum_window=30, volatility_window=60,
            momentum_threshold_bull=10, momentum_threshold_bear=-5,
            max_btc_allocation=0.9, min_btc_allocation=0.2,
            rebalance_frequency=3, transaction_cost=0.001, data=historical_data
        )
        best_params = portfolio.optimize_parameters(historical_data, n_trials=n_trials_slider.value)
        display(HTML(f'<b>Best Parameters:</b> Momentum Window: {best_params["momentum_window"]}, '
                     f'Volatility Window: {best_params["volatility_window"]}, '
                     f'Rebalance Freq: {best_params["rebalance_frequency"]}'))

optimize_button.on_click(on_optimize_clicked)
display(VBox([n_trials_slider, optimize_button, optimize_output]))
```
